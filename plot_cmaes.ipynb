{
 "metadata": {
  "language_info": {
   "codemirror_mode": {
    "name": "ipython",
    "version": 3
   },
   "file_extension": ".py",
   "mimetype": "text/x-python",
   "name": "python",
   "nbconvert_exporter": "python",
   "pygments_lexer": "ipython3",
   "version": 3
  },
  "orig_nbformat": 2
 },
 "nbformat": 4,
 "nbformat_minor": 2,
 "cells": [
  {
   "cell_type": "code",
   "execution_count": null,
   "metadata": {},
   "outputs": [],
   "source": [
    "from pathlib import Path\n",
    "import pandas as pd\n",
    "import argparse\n",
    "import matplotlib.pyplot as plt"
   ]
  },
  {
   "cell_type": "code",
   "execution_count": null,
   "metadata": {},
   "outputs": [],
   "source": [
    "data_file = Path('../outcmaes/fit.dat')\n",
    "\n",
    "with open(data_file, 'r') as data_stream:\n",
    "    # skip first line\n",
    "    first_line = next(data_stream)\n",
    "    # now we read the rest of the file as a csv\n",
    "    # read the pycma source code in order to find out the names of the logged values\n",
    "    # for each kind of log file\n",
    "    # https://github.com/CMA-ES/pycma/blob/master/cma/logger.py\n",
    "    columns = ['index','evals','sigma','axis ratio', 'best ever', 'best', 'median', 'worst']\n",
    "    df = pd.read_csv(data_stream, sep='\\s+', names=columns, index_col=0)\n",
    "\n",
    "    print('Plotting training statistics. On the X axis, we have the number of generations.\\n')\n",
    "    \n",
    "    title = 'Objective function'\n",
    "    df.plot(x='evals', y=['best ever', 'best', 'median', 'worst'], logy=True, title=title)\n",
    "    title = 'Standard deviation of the population distribution'\n",
    "    df.plot(x='evals', y=['sigma'], title=title, logy=True)\n",
    "    title = 'Max axis ratio of the population distribution'\n",
    "    df.plot(x='evals', y=['axis ratio'], title=title)"
   ]
  }
 ]
}